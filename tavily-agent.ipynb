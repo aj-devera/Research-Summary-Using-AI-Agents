{
 "cells": [
  {
   "cell_type": "code",
   "execution_count": 1,
   "metadata": {},
   "outputs": [],
   "source": [
    "from langchain_core.prompts.chat import ChatPromptTemplate, MessagesPlaceholder\n",
    "from langchain_community.chat_message_histories import ChatMessageHistory\n",
    "from langchain_core.runnables import RunnableWithMessageHistory\n",
    "\n",
    "from langchain_openai import ChatOpenAI\n",
    "from langchain_community.tools.tavily_search import TavilySearchResults\n",
    "from langchain.agents import create_tool_calling_agent, tool, AgentExecutor, AgentType, initialize_agent, load_tools\n",
    "\n",
    "import os\n",
    "from dotenv import load_dotenv\n",
    "\n",
    "load_dotenv()\n",
    "TAVILY_API_KEY=os.getenv(\"TAVILY_API_KEY\")\n",
    "search = TavilySearchResults()"
   ]
  },
  {
   "cell_type": "code",
   "execution_count": 2,
   "metadata": {},
   "outputs": [],
   "source": [
    "llm = ChatOpenAI(temperature=0.0, model=\"gpt-4o-mini-2024-07-18\")\n",
    "tools = [search]\n",
    "message_history = ChatMessageHistory()"
   ]
  },
  {
   "cell_type": "code",
   "execution_count": 3,
   "metadata": {},
   "outputs": [],
   "source": [
    "def create_markdown_report(response, filename):\n",
    "    markdown_content = response['output']\n",
    "\n",
    "    try:\n",
    "        with open(filename, 'w', encoding='utf-8') as f:\n",
    "            f.write(markdown_content)\n",
    "        return True\n",
    "    except Exception as e:\n",
    "        print(f\"Error creating file: {str(e)}\")\n",
    "        return False"
   ]
  },
  {
   "cell_type": "markdown",
   "metadata": {},
   "source": [
    "### Search Agent"
   ]
  },
  {
   "cell_type": "code",
   "execution_count": 4,
   "metadata": {},
   "outputs": [],
   "source": [
    "search_prompt = ChatPromptTemplate.from_messages(\n",
    "    [\n",
    "        (\"system\", \"You are a helpful assistant. Think step by step before responding.\"), # For initial persona or instruction\n",
    "        (\"placeholder\", \"{chat_history}\"), # For historical context such as previous response\n",
    "        (\"human\", \"{input}\"), # User query\n",
    "        (\"placeholder\", \"{agent_scratchpad}\") # For previous agent response and tools\n",
    "    ]\n",
    ")"
   ]
  },
  {
   "cell_type": "code",
   "execution_count": 5,
   "metadata": {},
   "outputs": [],
   "source": [
    "search_calling_agent = create_tool_calling_agent(llm=llm, tools=tools, prompt=search_prompt)\n",
    "search_agent_executor = AgentExecutor(agent=search_calling_agent, tools=tools, verbose=True)"
   ]
  },
  {
   "cell_type": "code",
   "execution_count": 6,
   "metadata": {},
   "outputs": [],
   "source": [
    "search_agent = RunnableWithMessageHistory(\n",
    "    search_agent_executor,\n",
    "    lambda session_id: message_history,\n",
    "    input_messages_key=\"input\",\n",
    "    history_messages_key=\"chat_history\",\n",
    ")"
   ]
  },
  {
   "cell_type": "code",
   "execution_count": 7,
   "metadata": {},
   "outputs": [
    {
     "name": "stdout",
     "output_type": "stream",
     "text": [
      "\n",
      "\n",
      "\u001b[1m> Entering new AgentExecutor chain...\u001b[0m\n",
      "\u001b[32;1m\u001b[1;3m\n",
      "Invoking: `tavily_search_results_json` with `{'query': 'Risk Communication research papers'}`\n",
      "\n",
      "\n",
      "\u001b[0m\u001b[36;1m\u001b[1;3m[{'url': 'https://www.sra.org/risk-analysis-specialty-groups/risk-communication/research/', 'content': 'Login | Register Go To Search Page Risk Analysis Glossary Decision Analysis and Risk Risk Communication Archived Annual Meetings Best Paper & Reviewer Awards Risk Analysis Glossary Decision Analysis and Risk Risk Communication Archived Annual Meetings Best Paper & Reviewer Awards Risk Communication The journals below represent just a few of the many different types of risk communication research. Also, an RSS feed for SRA’s own journal – Risk Analysis – is also provided below. Journal of Risk Research Articles coming soon and main journal site –\\xa0http://www.tandfonline.com/toc/rjrr20/current Articles coming soon and main journal site –\\xa0http://www.tandfonline.com/toc/uhcm20/current Articles coming soon and main journal site –\\xa0http://www.tandfonline.com/toc/hhth20/current Articles coming soon and main journal site –\\xa0http://www.tandfonline.com/toc/renc20/current Risk Analysis: An International Journal'}, {'url': 'https://www.science.gov/topicpages/r/risk+communication+research.html', 'content': 'This article reviews risk communication research appearing in the published literature since 1996. Among studies, social trust, the social amplification of'}, {'url': 'https://hazards.colorado.edu/news/research-projects/risk-communication-and-social-vulnerability', 'content': 'This project is designed to bridge this research to practice gap and to empower a new generation of risk communication leaders.'}, {'url': 'https://www.sciencedirect.com/science/article/pii/S2590061720300764', 'content': 'Risk communication is a critical component in disaster risk reduction, especially in designing and implementing early warning systems.'}, {'url': 'https://bmcpublichealth.biomedcentral.com/articles/10.1186/s12889-020-10125-5', 'content': 'This study was designed to contribute to the existing knowledge on how risk communication (RC) and risk perception (RP) affect protective and preventive'}]\u001b[0m\u001b[32;1m\u001b[1;3mHere are three research papers related to Risk Communication:\n",
      "\n",
      "1. **Risk Communication in Disaster Risk Reduction**  \n",
      "   - **Link**: [ScienceDirect Article](https://www.sciencedirect.com/science/article/pii/S2590061720300764)  \n",
      "   - **Summary**: This paper discusses the critical role of risk communication in disaster risk reduction, particularly in the design and implementation of early warning systems.\n",
      "\n",
      "2. **Risk Communication and Risk Perception**  \n",
      "   - **Link**: [BMC Public Health Article](https://bmcpublichealth.biomedcentral.com/articles/10.1186/s12889-020-10125-5)  \n",
      "   - **Summary**: This study explores how risk communication and risk perception influence protective and preventive behaviors in the context of public health.\n",
      "\n",
      "3. **Review of Risk Communication Research**  \n",
      "   - **Link**: [Science.gov Review](https://www.science.gov/topicpages/r/risk+communication+research.html)  \n",
      "   - **Summary**: This article reviews risk communication research published since 1996, focusing on aspects such as social trust and the social amplification of risk.\n",
      "\n",
      "These papers provide a comprehensive overview of various aspects of risk communication in different contexts.\u001b[0m\n",
      "\n",
      "\u001b[1m> Finished chain.\u001b[0m\n"
     ]
    }
   ],
   "source": [
    "search_response = search_agent.invoke(\n",
    "    {\"input\": \"Give 3 research papers about Risk Communication\"},\n",
    "    config={\"configurable\": {\"session_id\": \"search_session\"}}\n",
    ")"
   ]
  },
  {
   "cell_type": "code",
   "execution_count": 8,
   "metadata": {},
   "outputs": [
    {
     "name": "stdout",
     "output_type": "stream",
     "text": [
      "Here are three research papers related to Risk Communication:\n",
      "\n",
      "1. **Risk Communication in Disaster Risk Reduction**  \n",
      "   - **Link**: [ScienceDirect Article](https://www.sciencedirect.com/science/article/pii/S2590061720300764)  \n",
      "   - **Summary**: This paper discusses the critical role of risk communication in disaster risk reduction, particularly in the design and implementation of early warning systems.\n",
      "\n",
      "2. **Risk Communication and Risk Perception**  \n",
      "   - **Link**: [BMC Public Health Article](https://bmcpublichealth.biomedcentral.com/articles/10.1186/s12889-020-10125-5)  \n",
      "   - **Summary**: This study explores how risk communication and risk perception influence protective and preventive behaviors in the context of public health.\n",
      "\n",
      "3. **Review of Risk Communication Research**  \n",
      "   - **Link**: [Science.gov Review](https://www.science.gov/topicpages/r/risk+communication+research.html)  \n",
      "   - **Summary**: This article reviews risk communication research published since 1996, focusing on aspects such as social trust and the social amplification of risk.\n",
      "\n",
      "These papers provide a comprehensive overview of various aspects of risk communication in different contexts.\n"
     ]
    }
   ],
   "source": [
    "print(search_response['output'])"
   ]
  },
  {
   "cell_type": "markdown",
   "metadata": {},
   "source": [
    "### Summary Agent"
   ]
  },
  {
   "cell_type": "code",
   "execution_count": 9,
   "metadata": {},
   "outputs": [],
   "source": [
    "report_prompt_template = \"\"\"This report type focuses on comparative analysis.\n",
    "\n",
    "The report structure should include:\n",
    "1. Introduction (no research needed)\n",
    "   - Brief overview of the topic area\n",
    "   - Context for the comparison\n",
    "\n",
    "2. Main Body Sections:\n",
    "   - One dedicated section for EACH offering being compared in the user-provided list\n",
    "   - Each section should examine:\n",
    "     - Core Features (bulleted list)\n",
    "     - Architecture & Implementation (2-3 sentences)\n",
    "     - One example use case (2-3 sentences)\n",
    "   \n",
    "3. No Main Body Sections other than the ones dedicated to each offering in the user-provided list\n",
    "\n",
    "4. Conclusion with Comparison Table (no research needed)\n",
    "   - Structured comparison table that:\n",
    "     * Compares all offerings from the user-provided list across key dimensions\n",
    "     * Highlights relative strengths and weaknesses\n",
    "   - Final recommendations\n",
    "   \n",
    "5. Sources\n",
    "   - In a bulleted format, include the sources used\n",
    "\"\"\""
   ]
  },
  {
   "cell_type": "code",
   "execution_count": 10,
   "metadata": {},
   "outputs": [],
   "source": [
    "research_prompt = ChatPromptTemplate.from_messages(\n",
    "    [\n",
    "        (\"system\", \"You are a helpful assistant. Think step by step before responding.\"), # For initial persona or instruction\n",
    "        (\"system\", \"{prompt_template}\"),\n",
    "        (\"placeholder\", \"{chat_history}\"), # For historical context such as previous response\n",
    "        (\"human\", \"{input}\"), # User query\n",
    "        (\"placeholder\", \"{agent_scratchpad}\") # For previous agent response and tools\n",
    "    ]\n",
    ")"
   ]
  },
  {
   "cell_type": "code",
   "execution_count": 11,
   "metadata": {},
   "outputs": [],
   "source": [
    "research_calling_agent = create_tool_calling_agent(llm=llm, tools=tools, prompt=research_prompt)\n",
    "research_agent_executor = AgentExecutor(agent=research_calling_agent, tools=tools, verbose=True)"
   ]
  },
  {
   "cell_type": "code",
   "execution_count": 12,
   "metadata": {},
   "outputs": [],
   "source": [
    "research_agent = RunnableWithMessageHistory(\n",
    "    search_agent_executor,\n",
    "    lambda session_id: message_history,\n",
    "    input_messages_key=\"input\",\n",
    "    history_messages_key=\"chat_history\",\n",
    ")"
   ]
  },
  {
   "cell_type": "code",
   "execution_count": null,
   "metadata": {},
   "outputs": [
    {
     "ename": "NameError",
     "evalue": "name 'prompt_template' is not defined",
     "output_type": "error",
     "traceback": [
      "\u001b[1;31m---------------------------------------------------------------------------\u001b[0m",
      "\u001b[1;31mNameError\u001b[0m                                 Traceback (most recent call last)",
      "Cell \u001b[1;32mIn[13], line 3\u001b[0m\n\u001b[0;32m      1\u001b[0m research_response \u001b[38;5;241m=\u001b[39m research_agent\u001b[38;5;241m.\u001b[39minvoke(\n\u001b[0;32m      2\u001b[0m     {\u001b[38;5;124m\"\u001b[39m\u001b[38;5;124minput\u001b[39m\u001b[38;5;124m\"\u001b[39m: \u001b[38;5;124m\"\u001b[39m\u001b[38;5;124mFrom these research papers, write a report about Risk Communication\u001b[39m\u001b[38;5;124m\"\u001b[39m,\n\u001b[1;32m----> 3\u001b[0m      \u001b[38;5;124m\"\u001b[39m\u001b[38;5;124mprompt_template\u001b[39m\u001b[38;5;124m\"\u001b[39m: \u001b[43mprompt_template\u001b[49m,\n\u001b[0;32m      4\u001b[0m      },\n\u001b[0;32m      5\u001b[0m     config\u001b[38;5;241m=\u001b[39m{\u001b[38;5;124m\"\u001b[39m\u001b[38;5;124mconfigurable\u001b[39m\u001b[38;5;124m\"\u001b[39m: {\u001b[38;5;124m\"\u001b[39m\u001b[38;5;124msession_id\u001b[39m\u001b[38;5;124m\"\u001b[39m: \u001b[38;5;124m\"\u001b[39m\u001b[38;5;124msearch_session\u001b[39m\u001b[38;5;124m\"\u001b[39m}}\n\u001b[0;32m      6\u001b[0m )\n",
      "\u001b[1;31mNameError\u001b[0m: name 'prompt_template' is not defined"
     ]
    }
   ],
   "source": [
    "research_response = research_agent.invoke(\n",
    "    {\"input\": \"From these research papers, write a report about Risk Communication\",\n",
    "     \"prompt_template\": research_prompt_template,\n",
    "     },\n",
    "    config={\"configurable\": {\"session_id\": \"search_session\"}}\n",
    ")"
   ]
  },
  {
   "cell_type": "code",
   "execution_count": 18,
   "metadata": {},
   "outputs": [
    {
     "name": "stdout",
     "output_type": "stream",
     "text": [
      "### Report on Risk Communication\n",
      "\n",
      "#### Introduction\n",
      "Risk communication is a critical aspect of public health, environmental management, and emergency response. It involves the exchange of information about risks between decision-makers and the public, aiming to inform and empower individuals to make informed decisions. This report synthesizes findings from three significant research papers on risk communication, highlighting its evolution, methodologies, and practical applications.\n",
      "\n",
      "#### Overview of Risk Communication\n",
      "Risk communication has evolved significantly over the past few decades. It is no longer just about conveying information; it involves understanding the audience, their perceptions, and the context in which they receive information. Effective risk communication is essential in managing public concerns, especially during emergencies or crises.\n",
      "\n",
      "#### Key Findings from Research Papers\n",
      "\n",
      "1. **Proactive Response to Citizen Risk Concerns**\n",
      "   - **Authors:** Heath, R. L., & Abel, D. D.\n",
      "   - This paper emphasizes the importance of proactive communication strategies in addressing citizen concerns about risks. It highlights that increasing citizens' knowledge of emergency response practices can enhance public trust and compliance during crises. The authors argue that effective risk communication should not only inform but also engage the public, fostering a two-way dialogue.\n",
      "\n",
      "2. **Literature Review of Research Papers on Risk Communication**\n",
      "   - This literature review analyzes various studies on risk communication, identifying key characteristics and methodologies. The authors note a predominant focus on single-risk scenarios, particularly in the Northern American context. They suggest that future research should explore multi-risk environments and the complexities involved in communicating risks to diverse populations. The review underscores the need for tailored communication strategies that consider cultural and contextual factors.\n",
      "\n",
      "3. **The Evolving Field of Risk Communication**\n",
      "   - This paper discusses the changes in risk communication practices over the last 30 years. The authors highlight the shift from one-way communication to a more interactive approach that involves stakeholders in the decision-making process. They stress the importance of careful planning and audience-specific design in crafting messages that resonate with the public. The paper also points out the role of technology in enhancing risk communication, allowing for real-time updates and broader outreach.\n",
      "\n",
      "#### Practical Applications\n",
      "The insights gained from these research papers can be applied in various fields, including public health, environmental management, and disaster response. Key applications include:\n",
      "\n",
      "- **Crisis Management:** Developing proactive communication strategies that address public concerns and provide clear information about emergency response practices.\n",
      "- **Public Engagement:** Fostering two-way communication channels that allow for public feedback and participation in risk management decisions.\n",
      "- **Tailored Messaging:** Creating audience-specific messages that consider cultural, social, and contextual factors to enhance understanding and compliance.\n",
      "\n",
      "#### Conclusion\n",
      "Risk communication is a dynamic and evolving field that plays a crucial role in managing public perceptions and responses to risks. The research highlights the importance of proactive, tailored, and interactive communication strategies. As the landscape of risks continues to change, ongoing research and adaptation of communication practices will be essential in effectively informing and engaging the public.\n",
      "\n",
      "#### Recommendations\n",
      "- Future research should focus on multi-risk scenarios and the complexities of communicating risks to diverse populations.\n",
      "- Practitioners should invest in training for effective risk communication strategies that emphasize engagement and audience understanding.\n",
      "- The integration of technology in risk communication should be further explored to enhance outreach and real-time information dissemination.\n",
      "\n",
      "This report underscores the significance of risk communication in fostering informed and resilient communities in the face of uncertainty and potential threats.\n"
     ]
    }
   ],
   "source": [
    "print(research_response['output'])"
   ]
  },
  {
   "cell_type": "code",
   "execution_count": 20,
   "metadata": {},
   "outputs": [
    {
     "data": {
      "text/plain": [
       "True"
      ]
     },
     "execution_count": 20,
     "metadata": {},
     "output_type": "execute_result"
    }
   ],
   "source": [
    "create_markdown_report(research_response, filename=\"Summary.md\")"
   ]
  },
  {
   "cell_type": "code",
   "execution_count": null,
   "metadata": {},
   "outputs": [],
   "source": []
  }
 ],
 "metadata": {
  "kernelspec": {
   "display_name": ".venv",
   "language": "python",
   "name": "python3"
  },
  "language_info": {
   "codemirror_mode": {
    "name": "ipython",
    "version": 3
   },
   "file_extension": ".py",
   "mimetype": "text/x-python",
   "name": "python",
   "nbconvert_exporter": "python",
   "pygments_lexer": "ipython3",
   "version": "3.12.8"
  }
 },
 "nbformat": 4,
 "nbformat_minor": 2
}
